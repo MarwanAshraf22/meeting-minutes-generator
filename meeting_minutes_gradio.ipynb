{
  "nbformat": 4,
  "nbformat_minor": 0,
  "metadata": {
    "colab": {
      "provenance": [],
      "gpuType": "T4",
      "authorship_tag": "ABX9TyPv9gJQCHbcH2lLgz5EL/5j",
      "include_colab_link": true
    },
    "kernelspec": {
      "name": "python3",
      "display_name": "Python 3"
    },
    "language_info": {
      "name": "python"
    },
    "accelerator": "GPU"
  },
  "cells": [
    {
      "cell_type": "markdown",
      "metadata": {
        "id": "view-in-github",
        "colab_type": "text"
      },
      "source": [
        "<a href=\"https://colab.research.google.com/github/MarwanAshraf22/meeting-minutes-generator/blob/main/meeting_minutes_gradio.ipynb\" target=\"_parent\"><img src=\"https://colab.research.google.com/assets/colab-badge.svg\" alt=\"Open In Colab\"/></a>"
      ]
    },
    {
      "cell_type": "code",
      "execution_count": null,
      "metadata": {
        "id": "At1AC3BAkkhk"
      },
      "outputs": [],
      "source": [
        "!pip install -q requests bitsandbytes transformers sentencepiece accelerate openai torch gradio"
      ]
    },
    {
      "cell_type": "code",
      "source": [
        "import torch\n",
        "from openai import OpenAI\n",
        "from huggingface_hub import login\n",
        "from google.colab import userdata\n",
        "from transformers import AutoTokenizer, AutoModelForCausalLM, TextStreamer, BitsAndBytesConfig\n",
        "import gradio as gr"
      ],
      "metadata": {
        "id": "TiJJB7wHkmg8"
      },
      "execution_count": null,
      "outputs": []
    },
    {
      "cell_type": "code",
      "source": [
        "AUDIO_MODEL = \"whisper-1\"\n",
        "LLAMA = \"meta-llama/Meta-Llama-3.1-8B-Instruct\""
      ],
      "metadata": {
        "id": "1yKlH-nDsbyS"
      },
      "execution_count": null,
      "outputs": []
    },
    {
      "cell_type": "code",
      "source": [
        "hf_token = userdata.get('HF_TOKEN')\n",
        "login(hf_token, add_to_git_credential=True)"
      ],
      "metadata": {
        "id": "SXSozcEKyTMA"
      },
      "execution_count": null,
      "outputs": []
    },
    {
      "cell_type": "code",
      "source": [
        "openai_api_key = userdata.get('OPENAI_API_KEY')\n",
        "openai = OpenAI(api_key=openai_api_key)"
      ],
      "metadata": {
        "id": "U6ziHDHjz4mK"
      },
      "execution_count": null,
      "outputs": []
    },
    {
      "cell_type": "code",
      "source": [
        "quant_config = BitsAndBytesConfig(\n",
        "    load_in_4bit=True,\n",
        "    bnb_4bit_use_double_quant=True,\n",
        "    bnb_4bit_compute_dtype=torch.bfloat16,\n",
        "    bnb_4bit_quant_type=\"nf4\"\n",
        ")\n",
        "\n",
        "tokenizer = AutoTokenizer.from_pretrained(LLAMA)\n",
        "tokenizer.pad_token = tokenizer.eos_token\n",
        "\n",
        "model = AutoModelForCausalLM.from_pretrained(\n",
        "    LLAMA,\n",
        "    device_map=\"auto\",\n",
        "    quantization_config=quant_config\n",
        ")"
      ],
      "metadata": {
        "id": "cEkvE8pMU839"
      },
      "execution_count": null,
      "outputs": []
    },
    {
      "cell_type": "code",
      "source": [
        "def generate_minutes(transcription, model, tokenizer, progress=gr.Progress()):\n",
        "    progress(0.6, desc=\"Generating meeting minutes from transcript...\")\n",
        "\n",
        "    system_message = \"You are an assistant that produces minutes of meetings from transcripts, with summary, key discussion points, takeaways and action items with owners, in markdown.\"\n",
        "    user_prompt = f\"Below is an extract transcript of a meeting. Please write minutes in markdown, including a summary with attendees, location and date; discussion points; takeaways; and action items with owners.\\n{transcription}\"\n",
        "\n",
        "    messages = [\n",
        "        {\"role\": \"system\", \"content\": system_message},\n",
        "        {\"role\": \"user\", \"content\": user_prompt}\n",
        "    ]\n",
        "\n",
        "    inputs = tokenizer.apply_chat_template(messages, return_tensors=\"pt\").to(\"cuda\")\n",
        "    outputs = model.generate(inputs, max_new_tokens=2000)\n",
        "    response = tokenizer.decode(outputs[0])\n",
        "\n",
        "    # Clean up the response, keep only the minutes\n",
        "    progress(0.9, desc=\"Cleaning and formatting minutes...\")\n",
        "    response = response.split(\"<|end_header_id|>\")[-1].strip().replace(\"<|eot_id|>\",\"\")\n",
        "\n",
        "    return response"
      ],
      "metadata": {
        "id": "z47GbrPoabm1"
      },
      "execution_count": null,
      "outputs": []
    },
    {
      "cell_type": "code",
      "source": [
        "def transcribe_audio(audio_path, progress=gr.Progress()):\n",
        "    progress(0.3, desc=\"Creating transcript from audio...\")\n",
        "\n",
        "    try:\n",
        "        with open(audio_path, \"rb\") as audio_file:\n",
        "            transcription = openai.audio.transcriptions.create(\n",
        "                model=AUDIO_MODEL,\n",
        "                file=audio_file,\n",
        "                response_format=\"text\"\n",
        "            )\n",
        "            return transcription\n",
        "    except Exception as e:\n",
        "        return f\"Error during transcription: {str(e)}\""
      ],
      "metadata": {
        "id": "Hu-ox7C4W8cm"
      },
      "execution_count": null,
      "outputs": []
    },
    {
      "cell_type": "code",
      "source": [
        "def process_upload(audio_file, progress=gr.Progress()):\n",
        "    progress(0.1, desc=\"Starting process...\")\n",
        "\n",
        "    if audio_file is None:\n",
        "        return \"Please upload an audio file.\"\n",
        "\n",
        "    try:\n",
        "        # Check file format\n",
        "        if not str(audio_file).lower().endswith('.mp3'):\n",
        "            return \"Please upload an MP3 file.\"\n",
        "\n",
        "        # Get transcription\n",
        "        transcription = transcribe_audio(audio_file)\n",
        "        if transcription.startswith(\"Error\"):\n",
        "            return transcription\n",
        "\n",
        "        # Generate minutes\n",
        "        minutes = generate_minutes(transcription, model, tokenizer)\n",
        "        progress(1.0, desc=\"Process complete!\")\n",
        "        return minutes\n",
        "\n",
        "    except Exception as e:\n",
        "        return f\"Error processing file: {str(e)}\""
      ],
      "metadata": {
        "id": "fFN_IRHjX3Ce"
      },
      "execution_count": null,
      "outputs": []
    },
    {
      "cell_type": "code",
      "source": [
        "# Create Gradio interface\n",
        "\n",
        "interface = gr.Interface(\n",
        "    fn=process_upload,\n",
        "    inputs=gr.Audio(type=\"filepath\", label=\"Upload MP3 File\", format=\"mp3\"),\n",
        "    outputs=gr.Markdown(label=\"Meeting Minutes\", min_height=60),\n",
        "    title=\"Meeting Minutes Generator\",\n",
        "    description=\"Upload an MP3 recording of your meeting to get AI-generated meeting minutes. This process may take a few minutes.\",\n",
        "    flagging_mode=\"never\"\n",
        ")"
      ],
      "metadata": {
        "id": "6ndYG9aQeYEY"
      },
      "execution_count": null,
      "outputs": []
    },
    {
      "cell_type": "code",
      "source": [
        "interface.launch()"
      ],
      "metadata": {
        "id": "Fj15UHlbk_w1"
      },
      "execution_count": null,
      "outputs": []
    }
  ]
}